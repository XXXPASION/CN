{
 "cells": [
  {
   "cell_type": "code",
   "execution_count": null,
   "metadata": {},
   "outputs": [],
   "source": [
    "# Apartado de Errores\n",
    "'''\n",
    "1). Dado que el redondeo en base 10 de la suma o producto de dos números es ∓0,5 ∗ 𝜀,\n",
    "donde 𝜀 es el valor la última cifra significativa y que el dígito eliminado es aleatorio ¿podemos\n",
    "suponer que el redondeo es una variable aleatoria uniforme?\n",
    "\n",
    "2) Si dibujo la gráfica de función de densidad del error por redondeo ¿Como debería ser dicha\n",
    "gráfica?\n",
    "\n",
    "3) Si asumimos que el error de redondeo es una variable aleatoria uniforme entre −0,5 ∗ 𝜀 y\n",
    "∓0,5 ∗ 𝜀 ¿Cuál debería ser error absoluto promedio de la suma (o el producto) de un número\n",
    "elevado de números en coma flotante?, da una respuesta razonada.\n",
    "'''\n"
   ]
  },
  {
   "cell_type": "code",
   "execution_count": null,
   "metadata": {},
   "outputs": [],
   "source": [
    "# Ejercicio 1.a)\n",
    "\n",
    "def()"
   ]
  }
 ],
 "metadata": {
  "kernelspec": {
   "display_name": "Python 3",
   "language": "python",
   "name": "python3"
  },
  "language_info": {
   "codemirror_mode": {
    "name": "ipython",
    "version": 3
   },
   "file_extension": ".py",
   "mimetype": "text/x-python",
   "name": "python",
   "nbconvert_exporter": "python",
   "pygments_lexer": "ipython3",
   "version": "3.7.3"
  }
 },
 "nbformat": 4,
 "nbformat_minor": 2
}
