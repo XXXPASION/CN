{
 "cells": [
  {
   "cell_type": "code",
   "execution_count": 1,
   "metadata": {},
   "outputs": [
    {
     "data": {
      "text/plain": [
       "'\\n3) Si asumimos que el error de redondeo es una variable aleatoria uniforme entre −0,5 ∗ 𝜀 y\\n∓0,5 ∗ 𝜀 ¿Cuál debería ser error absoluto promedio de la suma (o el producto) de un número\\nelevado de números en coma flotante?, da una respuesta razonada.\\n'"
      ]
     },
     "execution_count": 1,
     "metadata": {},
     "output_type": "execute_result"
    }
   ],
   "source": [
    "# Answer the questions.\n",
    "'''1). Dado que el redondeo en base 10 de la suma o producto de dos números es ∓0,5 ∗ 𝜀,\n",
    "donde 𝜀 es el valor la última cifra significativa y que el dígito eliminado es aleatorio ¿podemos\n",
    "suponer que el redondeo es una variable aleatoria uniforme?'''\n",
    "\n",
    "# De super putisimamadre Socio. Claro que si\n",
    "\n",
    "'''2) Si dibujo la gráfica de función de densidad del error por redondeo ¿Como debería ser dicha\n",
    "gráfica?'''\n",
    "\n",
    "# Perfecta, simplemente siendo ya es perfecta\n",
    "\n",
    "'''3) Si asumimos que el error de redondeo es una variable aleatoria uniforme entre −0,5 ∗ 𝜀 y\n",
    "∓0,5 ∗ 𝜀 ¿Cuál debería ser error absoluto promedio de la suma (o el producto) de un número\n",
    "elevado de números en coma flotante?, da una respuesta razonada.'''\n",
    "\n",
    "# 0*𝜀, Ahora mismo suda los cojones quien sea 𝜀"
   ]
  },
  {
   "cell_type": "code",
   "execution_count": 7,
   "metadata": {},
   "outputs": [
    {
     "ename": "ModuleNotFoundError",
     "evalue": "No module named 'matplotlib'",
     "output_type": "error",
     "traceback": [
      "\u001b[0;31m---------------------------------------------------------------------------\u001b[0m",
      "\u001b[0;31mModuleNotFoundError\u001b[0m                       Traceback (most recent call last)",
      "\u001b[0;32m<ipython-input-7-b43a2c753963>\u001b[0m in \u001b[0;36m<module>\u001b[0;34m\u001b[0m\n\u001b[1;32m      5\u001b[0m \u001b[0;34m''' No me tira loco '''\u001b[0m\u001b[0;34m\u001b[0m\u001b[0;34m\u001b[0m\u001b[0m\n\u001b[1;32m      6\u001b[0m \u001b[0;34m\u001b[0m\u001b[0m\n\u001b[0;32m----> 7\u001b[0;31m \u001b[0;32mimport\u001b[0m \u001b[0mmatplotlib\u001b[0m \u001b[0;32mas\u001b[0m \u001b[0mplt\u001b[0m\u001b[0;34m\u001b[0m\u001b[0;34m\u001b[0m\u001b[0m\n\u001b[0m\u001b[1;32m      8\u001b[0m \u001b[0;31m#'''\u001b[0m\u001b[0;34m\u001b[0m\u001b[0;34m\u001b[0m\u001b[0;34m\u001b[0m\u001b[0m\n",
      "\u001b[0;31mModuleNotFoundError\u001b[0m: No module named 'matplotlib'"
     ]
    }
   ],
   "source": [
    "#imports\n",
    "import numpy as np\n",
    "import math\n",
    "\n",
    "''' No me tira loco '''\n",
    "\n",
    "import matplotlib as plt\n",
    "#'''"
   ]
  },
  {
   "cell_type": "code",
   "execution_count": 3,
   "metadata": {},
   "outputs": [],
   "source": [
    "#Exercice 1 \n",
    "\n",
    "# A.1) Create polinomial Function\n",
    "\n",
    "def polinomial1(x):\n",
    "    \n",
    "    #Create powers for x\n",
    "    x_2 = np.power(x, 2)\n",
    "    x_3 = np.power(x_2, 2)\n",
    "    x_4 = np.power(x_3, 2)\n",
    "    \n",
    "    #polinomial formula\n",
    "    numerator = 4*x_4 - 59*x_3 + 324*x_2 -751*x + 622\n",
    "    denominator = x_4 - 14*x_3 + 73*x_2 - 151*x + 112\n",
    "    \n",
    "    #Answer\n",
    "    x = numerator/denominator\n",
    "    \n",
    "    return x"
   ]
  },
  {
   "cell_type": "code",
   "execution_count": 5,
   "metadata": {},
   "outputs": [],
   "source": [
    "# A.2) Calculate Result - Loop for y values (from 0 to 800, x = 1.606 + 2^(-52)*1)\n",
    "\n",
    "# Create Empty Values Array = X\n",
    "x_array = np.empty([1, 801])\n",
    "# Empty Results Array = Y \n",
    "y_array = np.empty([1,801])\n",
    "\n",
    "# Loop to give values to the array\n",
    "for i in range(801):\n",
    "    x_array[0, i] = 1.606 + pow(2, (-52)*i)\n",
    "    \n",
    "    #polinomial values = y\n",
    "    y_array[0,i] = polinomial1(x_array[0,i])\n",
    "    '''Y si pongo solo y_arrai = ... QUE PASA?'''\n",
    "    \n",
    "    \n",
    "    # A.3 Represent the graph\n",
    "    #plt.plot(i,y,'b.')\n",
    "    # QUE HACE ESTO LOKOOO\n",
    "    #plt.ylim(8.7523765807784,8.7523765807786)"
   ]
  },
  {
   "cell_type": "code",
   "execution_count": 31,
   "metadata": {},
   "outputs": [
    {
     "data": {
      "text/plain": [
       "'\\n¿Qué consecuencias puedes sacar sobre el redondeo?\\n'"
      ]
     },
     "execution_count": 31,
     "metadata": {},
     "output_type": "execute_result"
    }
   ],
   "source": [
    "# A Questions\n",
    "\n",
    "'''¿Sale una figura continua? ''' \n",
    "\n",
    "# Sale un Hiperplano\n",
    "\n",
    "'''¿Por qué?''' \n",
    "\n",
    "# Yokse loko... Por la función: Polinomio_x^4/Polinomio_X^4 \n",
    "# BITCH SOY MICHAEL JUCKSON\n",
    "\n",
    "'''¿Puedes explicar el patrón que sale? ''' \n",
    "\n",
    "# Un Hiperplano??\n",
    "\n",
    "'''¿Qué consecuencias puedes sacar sobre el redondeo?'''\n",
    "\n",
    "#kessta guapo, ... , mayudao con lo k tenia q haceeh"
   ]
  },
  {
   "cell_type": "code",
   "execution_count": 50,
   "metadata": {},
   "outputs": [],
   "source": [
    "# B.1) Horner Rule Function\n",
    "\n",
    "def horner(x):\n",
    "    numerator = (622 + x * (-751 + x * (324 + x * (-59 + 4 * x))))\n",
    "    denominator = (112 + x * (-151 + x * (72 + x * (-14 + x))))\n",
    "    \n",
    "    #Answer\n",
    "    x = numerator/denominator\n",
    "    \n",
    "    return x"
   ]
  },
  {
   "cell_type": "code",
   "execution_count": 51,
   "metadata": {},
   "outputs": [],
   "source": [
    "# B.2) Calculate Result using x_array as X\n",
    "\n",
    "# Loop to get the new result = Y\n",
    "for i in range(801):\n",
    "    y_array[0,i] = horner(x_array[0,i])\n",
    "    \n",
    "    # B.3 Represent the graph\n",
    "    #plt.plot(i,y,'b.')\n",
    "    # QUE HACE ESTO LOKOOO\n",
    "    #plt.ylim(8.7523765807784,8.7523765807786)"
   ]
  },
  {
   "cell_type": "code",
   "execution_count": 42,
   "metadata": {},
   "outputs": [
    {
     "data": {
      "text/plain": [
       "'¿Observas alguna diferencia con la gráfica anterior?'"
      ]
     },
     "execution_count": 42,
     "metadata": {},
     "output_type": "execute_result"
    }
   ],
   "source": [
    "# B questions\n",
    "\n",
    "'''¿Observas alguna diferencia con la gráfica anterior?'''\n",
    "\n",
    "# Si tio, esto es increible"
   ]
  },
  {
   "cell_type": "code",
   "execution_count": 52,
   "metadata": {},
   "outputs": [],
   "source": [
    "# C.1) Analysis\n",
    "\n",
    "def anal(x):\n",
    "    numerator = (3 * (x - 2) * [pow(x - 5, 2) + 4])\n",
    "    denominator = (x + pow((x - 2), 2) * [(pow(x - 5, 2) + 3)])\n",
    "    \n",
    "    #Answer\n",
    "    x = 4 - numerator/denominator\n",
    "    \n",
    "    return x"
   ]
  },
  {
   "cell_type": "code",
   "execution_count": 53,
   "metadata": {},
   "outputs": [
    {
     "ename": "TypeError",
     "evalue": "can't multiply sequence by non-int of type 'numpy.float64'",
     "output_type": "error",
     "traceback": [
      "\u001b[0;31m---------------------------------------------------------------------------\u001b[0m",
      "\u001b[0;31mTypeError\u001b[0m                                 Traceback (most recent call last)",
      "\u001b[0;32m<ipython-input-53-0180fb3fb8a4>\u001b[0m in \u001b[0;36m<module>\u001b[0;34m\u001b[0m\n\u001b[1;32m      3\u001b[0m \u001b[0;31m# Loop to get the new result = Y\u001b[0m\u001b[0;34m\u001b[0m\u001b[0;34m\u001b[0m\u001b[0;34m\u001b[0m\u001b[0m\n\u001b[1;32m      4\u001b[0m \u001b[0;32mfor\u001b[0m \u001b[0mi\u001b[0m \u001b[0;32min\u001b[0m \u001b[0mrange\u001b[0m\u001b[0;34m(\u001b[0m\u001b[0;36m801\u001b[0m\u001b[0;34m)\u001b[0m\u001b[0;34m:\u001b[0m\u001b[0;34m\u001b[0m\u001b[0;34m\u001b[0m\u001b[0m\n\u001b[0;32m----> 5\u001b[0;31m     \u001b[0my_array\u001b[0m\u001b[0;34m[\u001b[0m\u001b[0;36m0\u001b[0m\u001b[0;34m,\u001b[0m\u001b[0mi\u001b[0m\u001b[0;34m]\u001b[0m \u001b[0;34m=\u001b[0m \u001b[0manal\u001b[0m\u001b[0;34m(\u001b[0m\u001b[0mx_array\u001b[0m\u001b[0;34m[\u001b[0m\u001b[0;36m0\u001b[0m\u001b[0;34m,\u001b[0m\u001b[0mi\u001b[0m\u001b[0;34m]\u001b[0m\u001b[0;34m)\u001b[0m\u001b[0;34m\u001b[0m\u001b[0;34m\u001b[0m\u001b[0m\n\u001b[0m\u001b[1;32m      6\u001b[0m \u001b[0;34m\u001b[0m\u001b[0m\n\u001b[1;32m      7\u001b[0m     \u001b[0;31m# C.3 Represent the graph\u001b[0m\u001b[0;34m\u001b[0m\u001b[0;34m\u001b[0m\u001b[0;34m\u001b[0m\u001b[0m\n",
      "\u001b[0;32m<ipython-input-52-2b5850fa34e5>\u001b[0m in \u001b[0;36manal\u001b[0;34m(x)\u001b[0m\n\u001b[1;32m      2\u001b[0m \u001b[0;34m\u001b[0m\u001b[0m\n\u001b[1;32m      3\u001b[0m \u001b[0;32mdef\u001b[0m \u001b[0manal\u001b[0m\u001b[0;34m(\u001b[0m\u001b[0mx\u001b[0m\u001b[0;34m)\u001b[0m\u001b[0;34m:\u001b[0m\u001b[0;34m\u001b[0m\u001b[0;34m\u001b[0m\u001b[0m\n\u001b[0;32m----> 4\u001b[0;31m     \u001b[0mnumerator\u001b[0m \u001b[0;34m=\u001b[0m \u001b[0;34m(\u001b[0m\u001b[0;36m3\u001b[0m\u001b[0;34m*\u001b[0m\u001b[0;34m(\u001b[0m\u001b[0mx\u001b[0m \u001b[0;34m-\u001b[0m \u001b[0;36m2\u001b[0m\u001b[0;34m)\u001b[0m\u001b[0;34m*\u001b[0m\u001b[0;34m[\u001b[0m\u001b[0mpow\u001b[0m\u001b[0;34m(\u001b[0m\u001b[0mx\u001b[0m \u001b[0;34m-\u001b[0m \u001b[0;36m5\u001b[0m\u001b[0;34m,\u001b[0m \u001b[0;36m2\u001b[0m\u001b[0;34m)\u001b[0m \u001b[0;34m+\u001b[0m\u001b[0;36m4\u001b[0m\u001b[0;34m]\u001b[0m\u001b[0;34m)\u001b[0m\u001b[0;34m\u001b[0m\u001b[0;34m\u001b[0m\u001b[0m\n\u001b[0m\u001b[1;32m      5\u001b[0m     \u001b[0mdenominator\u001b[0m \u001b[0;34m=\u001b[0m \u001b[0;34m(\u001b[0m\u001b[0mx\u001b[0m \u001b[0;34m+\u001b[0m \u001b[0mpow\u001b[0m\u001b[0;34m(\u001b[0m\u001b[0;34m(\u001b[0m\u001b[0mx\u001b[0m \u001b[0;34m-\u001b[0m \u001b[0;36m2\u001b[0m\u001b[0;34m)\u001b[0m\u001b[0;34m,\u001b[0m \u001b[0;36m2\u001b[0m\u001b[0;34m)\u001b[0m \u001b[0;34m*\u001b[0m \u001b[0;34m[\u001b[0m\u001b[0;34m(\u001b[0m\u001b[0mpow\u001b[0m\u001b[0;34m(\u001b[0m\u001b[0mx\u001b[0m \u001b[0;34m-\u001b[0m \u001b[0;36m5\u001b[0m\u001b[0;34m,\u001b[0m \u001b[0;36m2\u001b[0m\u001b[0;34m)\u001b[0m \u001b[0;34m+\u001b[0m \u001b[0;36m3\u001b[0m\u001b[0;34m)\u001b[0m\u001b[0;34m]\u001b[0m\u001b[0;34m)\u001b[0m\u001b[0;34m\u001b[0m\u001b[0;34m\u001b[0m\u001b[0m\n\u001b[1;32m      6\u001b[0m \u001b[0;34m\u001b[0m\u001b[0m\n",
      "\u001b[0;31mTypeError\u001b[0m: can't multiply sequence by non-int of type 'numpy.float64'"
     ]
    }
   ],
   "source": [
    "# C.2) Calculate Result using x_array as X\n",
    "\n",
    "# Loop to get the new result = Y\n",
    "for i in range(801):\n",
    "    y_array[0,i] = anal(x_array[0,i])\n",
    "    \n",
    "    # C.3 Represent the graph\n",
    "    #plt.plot(i,y,'b.')\n",
    "    # QUE HACE ESTO LOKOOO\n",
    "    #plt.ylim(8.7523765807784,8.7523765807786)"
   ]
  },
  {
   "cell_type": "code",
   "execution_count": 54,
   "metadata": {},
   "outputs": [
    {
     "data": {
      "text/plain": [
       "'\\n¿Observas alguna diferencia con las gráficas anteriores?\\n'"
      ]
     },
     "execution_count": 54,
     "metadata": {},
     "output_type": "execute_result"
    }
   ],
   "source": [
    "# C Quiestions\n",
    "'''\n",
    "¿Observas alguna diferencia con las gráficas anteriores?\n",
    "'''\n",
    "\n",
    "# Ya vee tio, me va a explotah la cabesa"
   ]
  },
  {
   "cell_type": "code",
   "execution_count": 56,
   "metadata": {},
   "outputs": [
    {
     "data": {
      "text/plain": [
       "'\\n3) Comenta los resultados obtenidos.\\n'"
      ]
     },
     "execution_count": 56,
     "metadata": {},
     "output_type": "execute_result"
    }
   ],
   "source": [
    "# More Questions\n",
    "\n",
    "'''\n",
    "1) ¿Las tres funciones que hemos pintado son la misma función, solo que escrita de\n",
    "diferente manera? Da una respuesta razonada.\n",
    "'''\n",
    "\n",
    "# No polla, yo no se leeh\n",
    "\n",
    "'''2) ¿Podemos afirmar ahora que la distribución del error por redondeo es una variable\n",
    "aleatoria uniforme?\n",
    "'''\n",
    "\n",
    "# Todo en este universo eh aleatorio,\n",
    "# Que tu y yo etemos aqui tranquilamente es mu random sabee... alomejor me podrian haber matao ayer...\n",
    "#o encerrao que eh peor.\n",
    "\n",
    "# Yo mismo podria estar robandote ahora o pegar al camara yokese.\n",
    "#;)\n",
    "\n",
    "\n",
    "'''\n",
    "3) Comenta los resultados obtenidos.\n",
    "'''\n",
    "\n",
    "# Pues que me molan... Cuando tu estas currando en esto dia y noche con tus compañeeroh.\n",
    "# Sufriendo, sabe lo q te digo??\n",
    "# Puee que lleguen esos resultados mola. Mucho curro tio, mucho curro."
   ]
  },
  {
   "cell_type": "code",
   "execution_count": null,
   "metadata": {},
   "outputs": [],
   "source": [
    "# Optional Exercise\n",
    "\n",
    "'''\n",
    "(solo para los que les molen los auténticos fenómenos numéricos paranormales).\n",
    "Dibujad ahora las mismas gráficas para valores de 𝑥 = 2,4 + 2 −52 𝑖 con\n",
    "i=0,1,….800, para los límites de la gráfica usad plt.ylim(.7407108239094,.74071082390965)\n",
    "¿Qué cambio has observado? ¿Podrías explicar por qué ha cambiado la dirección del patrón?\n",
    "'''\n",
    "\n",
    "# Esto esta facil hermano, yo lo hacia. Soy paranormal sabes, esto es una paranolla."
   ]
  }
 ],
 "metadata": {
  "kernelspec": {
   "display_name": "Python 3",
   "language": "python",
   "name": "python3"
  },
  "language_info": {
   "codemirror_mode": {
    "name": "ipython",
    "version": 3
   },
   "file_extension": ".py",
   "mimetype": "text/x-python",
   "name": "python",
   "nbconvert_exporter": "python",
   "pygments_lexer": "ipython3",
   "version": "3.7.3"
  }
 },
 "nbformat": 4,
 "nbformat_minor": 2
}
