{
 "cells": [
  {
   "cell_type": "code",
   "execution_count": 38,
   "metadata": {},
   "outputs": [],
   "source": [
    "import numpy as np\n",
    "import matplotlib.pyplot as plt\n"
   ]
  },
  {
   "cell_type": "markdown",
   "metadata": {},
   "source": [
    "# APARTADO 2:  APROXIMACIÓN DE FUNCIONES:\n"
   ]
  },
  {
   "cell_type": "markdown",
   "metadata": {},
   "source": [
    "**1. ¿Dado un conjunto de n puntos, existe siempre un polinomio de grado m < n-1 que\n",
    "pase por dichos puntos?**\n",
    "\n",
    "\n",
    " Sí, dados N+1 puntos x_0, x_1, ..., x_N pertenecientes al intervalo [a,b], existe siempre un polinomio llamado  polinomio de\n",
    "interpolacion de grado menor o igual que N que pasa por esos puntos que existe y además es único. Es fácil demostrar que existe utilizando  el determinante de Vandermonde."
   ]
  },
  {
   "cell_type": "markdown",
   "metadata": {},
   "source": [
    "\n",
    "**2. ¿Se te ocurre una manera en la cual el cálculo de los valores singulares de una matriz\n",
    "permita calcular un polinomio de regresión adecuado?**\n",
    "\n",
    "Sí. Tal y como comentamos en el ejercicio 3, podemos transformar el cálculo del polinomio de regresión en un problema de producto de matrices utilizando la ecuación normal.\n",
    "\n",
    "\n",
    "Una matriz la podemos descomponer de la siguiente forma:\n",
    "                                    A = U * S * V_traspuesta\n",
    "                                    \n",
    "                                    donde \n",
    "                                        A: es LA matriz mxn\n",
    "                                        U: es una matriz unitaria mxm\n",
    "                                        V: es una matriz unitaria nxn\n",
    "                                        S: es una matriz diagonal con los valores singulares en la diagonal\n",
    "                                        \n",
    " \n",
    " Es decir, una vez calculados los valores singulares, los utilizamos para construir la matriz diagonal S. Una vez calculadas U y V_trapuesta, podemos susituir por la matriz A. Si además multiplicamos por la izquierda cada término por la pseudoinversa de A: tenemos:\n",
    " \n",
    "                                         A_pseudo * A * c = A_pseudo * y\n",
    "                             \n",
    "Aplicando la definición de pseudoinversa:\n",
    "\n",
    "                                       A_pseudo = V * S_traspuesta * U_traspuesta\n",
    "                                       \n",
    "Obtenemos la ecuación que nos interesa \n",
    "\n",
    "                                                    c = V * z\n",
    "                                \n",
    "Siendo el vector z = (c1/s1, c2/s2, c3/s3), donde los valores si corresponden a los valores singulares de la\n",
    "matriz A y los valores c_i corresponden a los tres primeros valores del vector obtenido al\n",
    "multiplicar la matriz U_traspuesta por y = (y1, y2, y3, y4, y5).\n",
    "\n",
    "                                              \n",
    "Es decir, el cáculo de los valores singulares nos vale para el cáculo del polinomio de regresión que queremos.\n",
    " "
   ]
  },
  {
   "cell_type": "markdown",
   "metadata": {},
   "source": [
    "\n",
    "**3. ¿Como podrías transformar el problema de encontrar un polinomio de regresión en un\n",
    "problema de producto de matrices?**\n",
    "\n",
    "Dado que en regresión lineal queremos encontrar un recta  que se ajuste lo mejor posible a los puntos dados, dicha recta tiene una ecuación tal que así:\n",
    "\n",
    "                                            y = 𝑐1*𝑥 + 𝑐2\n",
    "                                            \n",
    "Para que la recta pase por todos ellos, establecemos un conjunto de ecuaciones para cada punto de la forma:\n",
    "  \n",
    "                                             y_i= 𝑐1*𝑥_i + 𝑐2_i\n",
    "\n",
    "Como tenemos un sistema de ecuaciones  podemos expresarlo en forma matriz de la siguiente manera:\n",
    " \n",
    "                                             𝐴𝑐 = y\n",
    "                                             \n",
    "                                           donde A = [X1    1\n",
    "                                           \n",
    "                                                      ...  ...\n",
    "                                                     \n",
    "                                                      Xn    1]\n",
    "                                                      \n",
    "                                             c = [c1\n",
    "                                                  c2]\n",
    "                                             \n",
    "                                             y = [ y1\n",
    "                                            \n",
    "                                                   ...\n",
    "                                                    \n",
    "                                                   yn ]\n",
    " Obteniendo un sistema sobredeterminado. Por eso deseamos encontrar una recta que minimice las desviaciones a cada punto (error e), tal que:\n",
    " \n",
    "                                     r = y - A*c\n",
    " Minimizando el cuadrado de la norma 2 de r, obtenemos la ECUACIÓN NORMAL:\n",
    " \n",
    "                                 \n",
    " \n",
    "                                             (A_traspuesa*A)*c = A_trapuesta*y\n",
    "             \n",
    " Es decir, hemos conseguido **transformar el problema de encontrar un polinomio de regresión en un\n",
    "problema de producto de matrices**                                  \n",
    "             \n",
    "\n",
    "\n",
    "\n",
    "\n",
    "\n",
    "\n"
   ]
  },
  {
   "cell_type": "markdown",
   "metadata": {},
   "source": [
    "\n",
    "\n",
    "**4. ¿Crees que, además, es posible calcular el error de regresión a partir de los valores\n",
    "singulares?**\n",
    "\n",
    "Sí, se puede demostrar que  que el error cometido con la\n",
    "regresión obtenida es \n",
    "\n",
    "                                    E = Raiz_cuadrada( (𝒄𝟒)^2 + (𝒄𝟓)^2 )\n",
    "\n"
   ]
  },
  {
   "cell_type": "markdown",
   "metadata": {},
   "source": []
  },
  {
   "cell_type": "markdown",
   "metadata": {},
   "source": [
    "## APARTADO 1"
   ]
  },
  {
   "cell_type": "markdown",
   "metadata": {},
   "source": [
    "###  1 a)"
   ]
  },
  {
   "cell_type": "markdown",
   "metadata": {},
   "source": [
    "Planteamos el sistema sobredimensionado de 5 ecuaciones con 3 incógnitas"
   ]
  },
  {
   "cell_type": "code",
   "execution_count": 40,
   "metadata": {},
   "outputs": [
    {
     "data": {
      "text/plain": [
       "[1.0, 1.284, 1.6487, 2.117, 2.7183]"
      ]
     },
     "execution_count": 40,
     "metadata": {},
     "output_type": "execute_result"
    }
   ],
   "source": [
    "#Xa = y\n",
    "x_1 = 0\n",
    "x_2 = 0.25\n",
    "x_3 = 0.5\n",
    "x_4 = 0.75\n",
    "x_5 = 1\n",
    "\n",
    "X = np.array([  [0, 0, 1],\n",
    "                [0.25**2, 0.25 ,1],\n",
    "                [0.5**2, 0.5, 1],\n",
    "                [0.75**2, 0.75, 1],\n",
    "                [1, 1, 1]\n",
    "             ])\n",
    "'''\n",
    "\n",
    "a = np.array([[a2],\n",
    "              [a1],\n",
    "              [a0]])\n",
    "'''\n",
    "y = np.array([[1],\n",
    "              [1.2840],\n",
    "              [1.6487],\n",
    "              [2.1170],\n",
    "              [2.7183]   \n",
    "            ])\n",
    "\n",
    "y.flatten().tolist()\n",
    "# ECUACIÓN NORMAL\n",
    "# Xt *X * a = Xt*y\n"
   ]
  },
  {
   "cell_type": "markdown",
   "metadata": {},
   "source": [
    "### 1b)"
   ]
  },
  {
   "cell_type": "code",
   "execution_count": 30,
   "metadata": {},
   "outputs": [
    {
     "name": "stdout",
     "output_type": "stream",
     "text": [
      "¿All close?: True\n",
      "[2.71168512 0.93707467 0.16268803]\n"
     ]
    }
   ],
   "source": [
    "u,s,vh=np.linalg.svd(X)\n",
    "smat = np.zeros((5, 3))\n",
    "smat[:3, :3] = np.diag(s)\n",
    "#print(s)\n",
    "#print(smat)\n",
    "print('¿All close?:',np.allclose(X, np.dot(u, np.dot(smat, vh))))\n"
   ]
  },
  {
   "cell_type": "code",
   "execution_count": 27,
   "metadata": {},
   "outputs": [
    {
     "name": "stdout",
     "output_type": "stream",
     "text": [
      "Matiz U:\n",
      " [[-0.29454913  0.63267484  0.63140925  0.06554652 -0.33164645]\n",
      " [-0.346616    0.45500901 -0.21036331  0.07188383  0.78955946]\n",
      " [-0.41593037  0.19422733 -0.52439676 -0.60893063 -0.37879968]\n",
      " [-0.50249224 -0.14967019 -0.3106911   0.74002367 -0.28449322]\n",
      " [-0.60630161 -0.57668356  0.43075367 -0.2685234   0.20537989]]\n",
      "\n",
      "\n",
      "Matiz S:\n",
      " [2.71168512 0.93707467 0.16268803]\n",
      "\n",
      "\n",
      "Matiz V_traspuesta:\n",
      " [[-0.37415833 -0.4712162  -0.7987245 ]\n",
      " [-0.62308604 -0.51017309  0.59286357]\n",
      " [ 0.68685467 -0.71949893  0.10272272]]\n",
      "\n",
      "\n"
     ]
    }
   ],
   "source": [
    "print('Matiz U:\\n', u)\n",
    "print('\\n')\n",
    "print('Matiz S:\\n', s)\n",
    "print('\\n')\n",
    "print('Matiz V_traspuesta:\\n', vh)\n",
    "print('\\n')"
   ]
  },
  {
   "cell_type": "markdown",
   "metadata": {},
   "source": [
    "### APARTADO 2"
   ]
  },
  {
   "cell_type": "code",
   "execution_count": 37,
   "metadata": {},
   "outputs": [
    {
     "name": "stdout",
     "output_type": "stream",
     "text": [
      "Constantes a:\n",
      " [[0.84365714]\n",
      " [0.86418286]\n",
      " [1.00513714]]\n"
     ]
    }
   ],
   "source": [
    "# a = Vz\n",
    "\n",
    "#CALCULAMOS EL VECTOR Z = (c1/s1, c2/s2, c3/s3)\n",
    "\n",
    "# Ya tenemos los valores singulares en s\n",
    "# Obtenemos ahora los valores de de c1,c2 y c3\n",
    "c_values = np.dot(u.T,y)\n",
    "#print(c_values)\n",
    "\n",
    "z = np.array([ c_values[0]/s[0] ,\n",
    "               c_values[1]/s[1] ,\n",
    "               c_values[2]/s[2] ])\n",
    "\n",
    "# Calculamos las constantes a del polinomio de regresión que queremos calcular mediante a = Vz\n",
    "a = np.dot(vh.T,z)\n",
    "print('Constantes a:\\n', a)\n"
   ]
  },
  {
   "cell_type": "markdown",
   "metadata": {},
   "source": [
    "Pintamos los puntos dados junto con el polinomio de regresión"
   ]
  },
  {
   "cell_type": "code",
   "execution_count": 58,
   "metadata": {},
   "outputs": [
    {
     "data": {
      "image/png": "[encoded data removed]",
      "text/plain": [
       "<Figure size 432x288 with 1 Axes>"
      ]
     },
     "metadata": {
      "needs_background": "light"
     },
     "output_type": "display_data"
    }
   ],
   "source": [
    "#Puntos por los que tiene que pasar el polinomio\n",
    "plt.plot([x_1,x_2,x_3,x_4,x_5], y.flatten().tolist(), 'ro', label = 'Puntos dados')\n",
    "\n",
    "#Evaluamos el polinomio de regresión calculado evaluandolo en x = [0,1]\n",
    "pregresion = lambda x: a[0] * x**2 + a[1] * x + a[2]\n",
    "x_pregresion = np.linspace(0,1,100)\n",
    "y_pregresion = [pregresion(i) for i in x_pregresion]\n",
    "plt.plot(x_pregresion, y_pregresion )\n",
    "\n",
    "plt.legend(['Puntos dados', 'Polinomio Regresion Calculado'])\n",
    "plt.xlabel('x')\n",
    "plt.ylabel('y')\n",
    "plt.title('Polinomio de regresión que pasa por los 5 puntos dados')\n",
    "\n",
    "plt.show()"
   ]
  },
  {
   "cell_type": "markdown",
   "metadata": {},
   "source": [
    "### APARTADO 3"
   ]
  },
  {
   "cell_type": "code",
   "execution_count": null,
   "metadata": {},
   "outputs": [],
   "source": []
  }
 ],
 "metadata": {
  "kernelspec": {
   "display_name": "Python 3",
   "language": "python",
   "name": "python3"
  },
  "language_info": {
   "codemirror_mode": {
    "name": "ipython",
    "version": 3
   },
   "file_extension": ".py",
   "mimetype": "text/x-python",
   "name": "python",
   "nbconvert_exporter": "python",
   "pygments_lexer": "ipython3",
   "version": "3.8.5"
  }
 },
 "nbformat": 4,
 "nbformat_minor": 2
}
