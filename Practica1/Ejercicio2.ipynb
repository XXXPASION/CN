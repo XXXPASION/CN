{
 "cells": [
  {
   "cell_type": "code",
   "execution_count": 57,
   "metadata": {},
   "outputs": [
    {
     "data": {
      "text/plain": [
       "'\\nEn general, los métodos de regresión polinómica que hemos visto consisten en el cálculo\\nanalítico del mínimo de una función de error. Dicho calculo pasaba por calcular el gradiente de\\ncierta función en igualarlo a 0. En esta práctica vamos a ver que todos esos pasos no son\\nrealmente necesarios.\\n'"
      ]
     },
     "execution_count": 57,
     "metadata": {},
     "output_type": "execute_result"
    }
   ],
   "source": [
    "# Answer the questions.\n",
    "\n",
    "'''1. ¿Dado un conjunto de n puntos, existe siempre un polinomio de grado m < n-1 que\n",
    "pase por dichos puntos?'''\n",
    "\n",
    "# Yo soy el punto, me entiende?, Si quiere algo llamame.\n",
    "\n",
    "'''2. ¿Se te ocurre una manera en la cual el cálculo de los valores singulares de una matriz\n",
    "permita calcular un polinomio de regresión adecuado?'''\n",
    "\n",
    "# \n",
    "\n",
    "'''3. ¿Como podrías transformar el problema de encontrar un polinomio de regresión en un\n",
    "problema de producto de matrices?'''\n",
    "\n",
    "# Con matricee, no? tiene sentido, vamoh yo no se, pero lo pienso\n",
    "\n",
    "'''4. ¿Crees que, además, es posible calcular el error de regresión a partir de los valores\n",
    "singulares?'''\n",
    "\n",
    "# No se ... No se.. La verda que no se, tampoco te voy a mentí\n",
    "\n",
    "'''\n",
    "En general, los métodos de regresión polinómica que hemos visto consisten en el cálculo\n",
    "analítico del mínimo de una función de error. Dicho calculo pasaba por calcular el gradiente de\n",
    "cierta función en igualarlo a 0. En esta práctica vamos a ver que todos esos pasos no son\n",
    "realmente necesarios.\n",
    "'''"
   ]
  },
  {
   "cell_type": "code",
   "execution_count": 59,
   "metadata": {},
   "outputs": [
    {
     "data": {
      "text/plain": [
       "' No me tira loco\\n\\nimport matplotlib as plt\\n'"
      ]
     },
     "execution_count": 59,
     "metadata": {},
     "output_type": "execute_result"
    }
   ],
   "source": [
    "#imports\n",
    "import numpy as np\n",
    "import math\n",
    "\n",
    "''' No me tira loco\n",
    "\n",
    "import matplotlib as plt\n",
    "'''"
   ]
  },
  {
   "cell_type": "code",
   "execution_count": 66,
   "metadata": {},
   "outputs": [],
   "source": [
    "# Exercise 2\n",
    "\n",
    "# Data\n",
    "data = np.array([[1, 0 ,1], [2, 0.25, 1.2840], [3, 0.5, 1.6487], [2, 0.75, 2.1170], [2, 1, 2.7183]])"
   ]
  },
  {
   "cell_type": "code",
   "execution_count": null,
   "metadata": {},
   "outputs": [],
   "source": []
  }
 ],
 "metadata": {
  "kernelspec": {
   "display_name": "Python 3",
   "language": "python",
   "name": "python3"
  },
  "language_info": {
   "codemirror_mode": {
    "name": "ipython",
    "version": 3
   },
   "file_extension": ".py",
   "mimetype": "text/x-python",
   "name": "python",
   "nbconvert_exporter": "python",
   "pygments_lexer": "ipython3",
   "version": "3.7.3"
  }
 },
 "nbformat": 4,
 "nbformat_minor": 2
}
