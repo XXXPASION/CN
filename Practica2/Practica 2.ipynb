{
 "cells": [
  {
   "cell_type": "code",
   "execution_count": 38,
   "id": "0b614a52",
   "metadata": {},
   "outputs": [],
   "source": [
    "# plotting libraries\n",
    "\n",
    "# for inline plots in jupyter\n",
    "if True:\n",
    "    %matplotlib inline\n",
    "else:\n",
    "    %matplotlib notebook\n",
    "    \n",
    "    \n",
    "# import matplotlib\n",
    "import matplotlib.pyplot as plt\n",
    "#import numpy\n",
    "import numpy as np\n",
    "#import scipy.stats\n",
    "import scipy.stats\n",
    "# import integrate\n",
    "import scipy.integrate as integrate\n",
    "# for latex equations\n",
    "from IPython.display import Math, Latex\n",
    "# for displaying images\n",
    "from IPython.core.display import Image\n",
    "\n",
    "import seaborn as sns\n"
   ]
  },
  {
   "cell_type": "markdown",
   "id": "3e5ee2b7",
   "metadata": {},
   "source": [
    "# Distribución Beta - Bernuilli"
   ]
  },
  {
   "cell_type": "code",
   "execution_count": 77,
   "id": "5f5196f3",
   "metadata": {},
   "outputs": [
    {
     "data": {
      "image/png": "[encoded data removed]",
      "text/plain": [
       "<Figure size 432x288 with 1 Axes>"
      ]
     },
     "metadata": {
      "needs_background": "light"
     },
     "output_type": "display_data"
    },
    {
     "data": {
      "image/png": "[encoded data removed]",
      "text/plain": [
       "<Figure size 432x288 with 1 Axes>"
      ]
     },
     "metadata": {
      "needs_background": "light"
     },
     "output_type": "display_data"
    }
   ],
   "source": [
    "# Parametros de Distribución Beta\n",
    "a = 5; b = 10 \n",
    "# Parametros para verosimilitud\n",
    "n = 20; k = 1\n",
    "\n",
    "# Graficando Beta\n",
    "beta = scipy.stats.beta(a, b)\n",
    "x = np.linspace(beta.ppf(0.01),\n",
    "                beta.ppf(0.99), 20)\n",
    "\n",
    "# Función de Probabilidad pi(sigma) = B(o|a,b)\n",
    "fp = beta.pdf(x) \n",
    "plt.plot(x, fp)\n",
    "plt.title('Distribución Beta')\n",
    "plt.ylabel('probabilidad')\n",
    "plt.xlabel('valores')\n",
    "plt.show()\n",
    "\n",
    "# histograma\n",
    "aleatorios = beta.rvs(1000) # genera aleatorios\n",
    "cuenta, cajas, ignorar = plt.hist(aleatorios, 20)\n",
    "plt.ylabel('frequencia')\n",
    "plt.xlabel('valores')\n",
    "plt.title('Histograma Beta')\n",
    "plt.show()"
   ]
  },
  {
   "cell_type": "markdown",
   "id": "2ab6a2ec",
   "metadata": {},
   "source": [
    "### 1.- ¿Cuál es el valor de  E[θ]  antes de realizar el experimento?\n",
    "\n",
    "Sabiendo que $\\mu_{prior}$ = $E[\\sigma]_{prior}$ = $\\int^\\infty_{-\\infty}\\sigma B(\\sigma|\\alpha,\\beta) \\partial\\sigma$ = $ \\frac{\\alpha}{\\alpha + \\beta} $.\n",
    "\n",
    "Y sabiendo que esto es igual a: $\\alpha = 5 $ Y que beta $\\beta = 10$\n",
    "\n",
    "El resultado de la pregunta 1, la probabilidad esperada para el prior es: $$\\mu_{prior} = \\frac{5}{5 + 10} = \\frac{5}{15} = \\frac{1}{3} = 0.333333333$$"
   ]
  },
  {
   "cell_type": "code",
   "execution_count": 59,
   "id": "b598b2bf",
   "metadata": {},
   "outputs": [
    {
     "name": "stdout",
     "output_type": "stream",
     "text": [
      "mu_priori =  0.3333333333333333\n"
     ]
    }
   ],
   "source": [
    "def prob(a,b):\n",
    "    return a/(a+b)\n",
    "    \n",
    "mu_p = prob(a,b)\n",
    "\n",
    "print(\"mu_priori = \", mu_p)"
   ]
  },
  {
   "cell_type": "markdown",
   "id": "a8627615",
   "metadata": {},
   "source": [
    "### ¿Cuál es el valor de  E[θ]  después de observar el resultado del experimento?\n",
    "Función de verosimilitud **no normalizada** $$\\pi(x|\\sigma) \\equiv \\sigma^k(1 - \\sigma)^{n-k}$$\n",
    "\n",
    "$E[\\sigma]$ despues de observar el experimento = \n",
    "$$ = \\frac{\\int^{\\infty}_{-\\infty}\\sigma\\pi(x|\\sigma)\\pi(\\sigma)\\partial\\sigma}{\\int^{\\infty}_{-\\infty}\\pi(x|\\sigma)\\pi(\\sigma) \\partial\\sigma}= $$ \n",
    "\n",
    "$$ = \\frac{\\int^{1}_{0}\\sigma^{k+1}(1-\\sigma)^{n-k}*B(\\sigma|\\alpha = 5, \\beta = 10)\\partial\\sigma}{\\int^{1}_{0}\\sigma^k(1-\\sigma)^{n-k}*B(\\sigma|\\alpha = 5, \\beta = 10) \\partial\\sigma} = $$\n",
    "\n",
    "$$ E[\\sigma]_posterior = \\frac{\\alpha}{(\\alpha ' + \\beta')}$$\n"
   ]
  },
  {
   "cell_type": "code",
   "execution_count": 63,
   "id": "3e81308a",
   "metadata": {},
   "outputs": [
    {
     "name": "stdout",
     "output_type": "stream",
     "text": [
      "verosimilitud maxima =  0.05\n",
      "probabilidad a posteriori =  0.17142857142857143\n"
     ]
    }
   ],
   "source": [
    "# Ahora para el experimento tomamos: \n",
    "# 20 pacientes \n",
    "n = 20\n",
    "# 1 infectado\n",
    "k = 1\n",
    "\n",
    "# Verosimilitud = Likelihood\n",
    "like = x**k * (1 - x)**(n-k)\n",
    "like_mas1 = x**(k+1) * (1 - x)**(n-k)\n",
    "\n",
    "# Normalizamos la Verosimilitud\n",
    "like = like/sum(like) * 100\n",
    "\n",
    "print(\"verosimilitud maxima = \", k/n)\n",
    "\n",
    "# Probabilidad a posteriori\n",
    "''' inte = integrate.quad(like*beta, 0, 1)/integrate.quad(like_mas1*beta, 0, 1)\n",
    "\n",
    "print(inte)'''\n",
    "# Segunda forma Porbabilidad a posteriori\n",
    "def posteriori_parameters(a, b, n, k):\n",
    "    alphap = a + k\n",
    "    betap = b + n - k\n",
    "    \n",
    "    return alphap, betap\n",
    "\n",
    "aa, bb = posteriori_parameters(a, b, n, k)\n",
    "post = prob(aa, bb)\n",
    "\n",
    "print(\"probabilidad a posteriori = \", post)"
   ]
  },
  {
   "cell_type": "markdown",
   "id": "931e2b96",
   "metadata": {},
   "source": [
    "### Aumentamos el experimento a 100 = x5"
   ]
  },
  {
   "cell_type": "code",
   "execution_count": 66,
   "id": "86bbdf64",
   "metadata": {},
   "outputs": [
    {
     "name": "stdout",
     "output_type": "stream",
     "text": [
      "prior: 0.3333333333333333\n",
      "posteriori: 0.05168986083499006\n",
      "max likelihood: 0.05\n"
     ]
    }
   ],
   "source": [
    "n = n*5\n",
    "k = k*5\n",
    "\n",
    "prior = (a/(a+b))\n",
    "\n",
    "aa, bb = posteriori_parameters(a, b, n, k)\n",
    "post = prob(aa, bb) \n",
    "         \n",
    "print(\"prior:\", prior)\n",
    "print(\"posteriori:\", post)\n",
    "print(\"max likelihood:\", k/n)"
   ]
  },
  {
   "cell_type": "markdown",
   "id": "af3e9dbd",
   "metadata": {},
   "source": [
    "## Simulación de Montecarlo"
   ]
  },
  {
   "cell_type": "code",
   "execution_count": 68,
   "id": "f3a0085b",
   "metadata": {},
   "outputs": [],
   "source": [
    "# Código de clase (B)\n",
    "def resultados (x, y, n, alpha) :\n",
    "    z_alpha = scipy.stats.norm.ppf(1 - (alpha / 2) )    \n",
    "    size = np.arange (start = 1, stop = n+1,  step=1)\n",
    "    \n",
    "    # media muestral\n",
    "    media = np.cumsum (y) / size\n",
    "    \n",
    "    # Varianza muestral, s2\n",
    "    media2 = media * media\n",
    "    y2 = y * y\n",
    "    s2 = np.cumsum (y2) / size - media2\n",
    "    \n",
    "    # varianza estimador\n",
    "    sigma2 = s2 /  size\n",
    "    \n",
    "    #intervalo de confianza\n",
    "    sigma = np.sqrt(sigma2)\n",
    "    ci_inf = media - z_alpha * sigma\n",
    "    ci_sup = media + z_alpha * sigma \n",
    "    \n",
    "    resul = {'size':size, 'media' : media, 's2': s2, 'sigma2': sigma2, \n",
    "             'ci_inf': ci_inf, 'ci_sup':ci_sup}\n",
    "    \n",
    "    return resul"
   ]
  },
  {
   "cell_type": "code",
   "execution_count": 72,
   "id": "21194dbb",
   "metadata": {},
   "outputs": [],
   "source": [
    "# Código de Internet\n",
    "# Ejemplo algoritmo metropolis\n",
    "def metropolis(func, steps=10000):\n",
    "    \"\"\"A very simple Metropolis implementation\"\"\"\n",
    "    muestras = np.zeros(steps)\n",
    "    old_x = func.mean()\n",
    "    old_prob = func.pdf(old_x)\n",
    "    \n",
    "    for i in range(steps):\n",
    "        new_x = old_x + np.random.normal(0, 0.5)\n",
    "        new_prob = func.pdf(new_x)\n",
    "        aceptacion = new_prob / old_prob\n",
    "        if aceptacion >= np.random.random():\n",
    "            muestras[i] = new_x\n",
    "            old_x = new_x\n",
    "            old_prob = new_prob\n",
    "        else:\n",
    "            muestras[i] = old_x\n",
    "    \n",
    "    return muestras\n",
    "\n"
   ]
  },
  {
   "cell_type": "code",
   "execution_count": 75,
   "id": "2c9c87e0",
   "metadata": {},
   "outputs": [
    {
     "data": {
      "image/png": "[encoded data removed]",
      "text/plain": [
       "<Figure size 576x576 with 1 Axes>"
      ]
     },
     "metadata": {
      "needs_background": "light"
     },
     "output_type": "display_data"
    }
   ],
   "source": [
    "# distribución beta\n",
    "samples = metropolis(func=beta, steps=100000)\n",
    "x = np.linspace(0.01, .99, 100)\n",
    "y = func.pdf(x)\n",
    "plt.figure(figsize=(8,8))\n",
    "plt.xlim(0, 1)\n",
    "plt.plot(x, y, 'r-', lw=3, label='Distribución verdadera')\n",
    "plt.hist(samples, bins=30, density=True, label='Distribución estimada con MCMC')\n",
    "plt.xlabel('$x$', fontsize=14)\n",
    "plt.ylabel('$pdf(x)$', fontsize=14)\n",
    "plt.legend(fontsize=14)\n",
    "plt.show()"
   ]
  },
  {
   "cell_type": "markdown",
   "id": "f442f0fa",
   "metadata": {},
   "source": [
    "## Programación del error\n",
    "¿Por que se debe utilizar la misma muestra de  θ  en el numerador y denominador para estimar  μposterior?\n",
    "\n",
    "¿Por que a la hora de hacer la simulación de M.C hemos podido utilizar una función sin normalizar proporcional a  π(x|θ)  eq. (5) y no  π(x|θ) ?\n"
   ]
  },
  {
   "cell_type": "markdown",
   "id": "0f2b9875",
   "metadata": {},
   "source": [
    "## Ejercicio 2\n",
    "### Estimar empíricamente la función de densidad de probabilidad a posteriori  π(θ|x)  del ejercicio anterior y validarla con el resultado teórico. Discutir los resultados"
   ]
  },
  {
   "cell_type": "code",
   "execution_count": null,
   "id": "a236ed24",
   "metadata": {},
   "outputs": [],
   "source": []
  }
 ],
 "metadata": {
  "kernelspec": {
   "display_name": "Python 3 (ipykernel)",
   "language": "python",
   "name": "python3"
  },
  "language_info": {
   "codemirror_mode": {
    "name": "ipython",
    "version": 3
   },
   "file_extension": ".py",
   "mimetype": "text/x-python",
   "name": "python",
   "nbconvert_exporter": "python",
   "pygments_lexer": "ipython3",
   "version": "3.8.10"
  }
 },
 "nbformat": 4,
 "nbformat_minor": 5
}
